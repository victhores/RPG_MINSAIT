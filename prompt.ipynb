{
 "cells": [
  {
   "attachments": {},
   "cell_type": "markdown",
   "metadata": {},
   "source": [
    "Este arquivo é o prompt do jogo.\n",
    "\n",
    "Aqui você pode inserir os comandos linha-a-linha nas células abaixo.\n",
    "\n",
    "Não esqueça de executar, em primeiro, a célula com a tag \"LOAD DO PROGRAMA\", pois é nele que o Jupyter lê os objetos inseridos no arquivo \"RPG_index.py\".\n",
    "Caso o mesmo acabe aparecendo vazio, há uma cópia no arquivo \"comandos.txt\".\n",
    "\n",
    "No arquivo \"comandos.txt\", estão os comandos para realizar o jogo. Sinta-se à vontade para usá-los, alterando atributos para utilizar todos os métodos disponíveis.\n",
    "\n",
    "Se divirta! "
   ]
  },
  {
   "cell_type": "code",
   "execution_count": 5,
   "metadata": {
    "tags": [
     "parameters",
     "LOAD DO PROGRAMA"
    ]
   },
   "outputs": [],
   "source": [
    "from RPG_index import SerVivo\n",
    "from RPG_index import Personagem\n",
    "from RPG_index import Monstro\n",
    "from RPG_index import Goblin\n",
    "from RPG_index import Lobo"
   ]
  }
 ],
 "metadata": {
  "kernelspec": {
   "display_name": "Python 3",
   "language": "python",
   "name": "python3"
  },
  "language_info": {
   "codemirror_mode": {
    "name": "ipython",
    "version": 3
   },
   "file_extension": ".py",
   "mimetype": "text/x-python",
   "name": "python",
   "nbconvert_exporter": "python",
   "pygments_lexer": "ipython3",
   "version": "3.11.2"
  },
  "orig_nbformat": 4
 },
 "nbformat": 4,
 "nbformat_minor": 2
}
